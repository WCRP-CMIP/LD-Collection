{
 "cells": [
  {
   "cell_type": "code",
   "execution_count": 1,
   "metadata": {},
   "outputs": [],
   "source": [
    "import os, re, json, sys, time, requests, argparse\n",
    "import cmipld\n",
    "from cmipld.utils.git import tree"
   ]
  },
  {
   "cell_type": "code",
   "execution_count": 16,
   "metadata": {},
   "outputs": [
    {
     "data": {
      "text/plain": [
       "(<function cmipld.utils.git.tree.get_repo_tree(owner, repo, path='src-data', branch='main', prefix=None)>,\n",
       " {'wcrp-universe': 'https://wcrp-cmip.github.io/WCRP-UNIVERSE/',\n",
       "  'mip-variables': 'https://wcrp-cmip.github.io/MIP-variables/',\n",
       "  'cmip6plus': 'https://wcrp-cmip.github.io/CMIP6Plus_CVs/',\n",
       "  'cmip7': 'https://wcrp-cmip.github.io/CMIP7_CVs/',\n",
       "  'cf': 'https://wcrp-cmip.github.io/CF/',\n",
       "  'obs4mips': 'https://wolfiex.github.io/obs4MIPs-cmor-tables-ld//'})"
      ]
     },
     "execution_count": 16,
     "metadata": {},
     "output_type": "execute_result"
    }
   ],
   "source": [
    "tree.get_repo_tree, cmipld.mapping"
   ]
  },
  {
   "cell_type": "code",
   "execution_count": 17,
   "metadata": {},
   "outputs": [
    {
     "name": "stdout",
     "output_type": "stream",
     "text": [
      "wcrp-cmip WCRP-UNIVERSE\n",
      "https://api.github.com/repos/wcrp-cmip/WCRP-UNIVERSE/contents/src-data?ref=production\n",
      "wcrp-cmip MIP-variables\n",
      "https://api.github.com/repos/wcrp-cmip/MIP-variables/contents/src-data?ref=production\n",
      "wcrp-cmip CMIP6Plus_CVs\n",
      "https://api.github.com/repos/wcrp-cmip/CMIP6Plus_CVs/contents/src-data?ref=production\n",
      "wcrp-cmip CMIP7_CVs\n",
      "https://api.github.com/repos/wcrp-cmip/CMIP7_CVs/contents/src-data?ref=production\n",
      "wcrp-cmip CF\n",
      "https://api.github.com/repos/wcrp-cmip/CF/contents/src-data?ref=production\n",
      "wolfiex obs4MIPs-cmor-tables-ld\n",
      "https://api.github.com/repos/wolfiex/obs4MIPs-cmor-tables-ld/contents/src-data?ref=production\n"
     ]
    }
   ],
   "source": [
    "root = {\n",
    "    'name': 'cmipld',\n",
    "    \"html_url\":f\"https://wcrp-cmip.org\",\n",
    "    \"children\": []\n",
    "}\n",
    "\n",
    "import time\n",
    "for k,v in cmipld.mapping.items():\n",
    "    try:\n",
    "        \n",
    "        owner,repo = v.replace('https://','').split('/')[:2]\n",
    "        owner = owner.split('.')[0]\n",
    "        \n",
    "        \n",
    "        print(owner,repo)\n",
    "        \n",
    "        entry = tree.get_repo_tree(owner, repo, path=\"src-data\", branch = \"production\", prefix = k)\n",
    "\n",
    "        \n",
    "        root['children'].append(entry)\n",
    "        time.sleep(1)\n",
    "        \n",
    "        \n",
    "    except Exception as e:\n",
    "        print(k,v)\n",
    "        print(e)\n",
    "        print('---')\n",
    "        \n",
    "        \n",
    "# json.dump(root, open('universe_hierarchy.json','w'), indent=2)"
   ]
  },
  {
   "cell_type": "code",
   "execution_count": 4,
   "metadata": {},
   "outputs": [],
   "source": [
    "# entry = tree.get_repo_tree(owner, repo, path=\"src-data\", branch = \"production\")"
   ]
  },
  {
   "cell_type": "code",
   "execution_count": null,
   "metadata": {},
   "outputs": [],
   "source": []
  },
  {
   "cell_type": "code",
   "execution_count": 5,
   "metadata": {},
   "outputs": [],
   "source": [
    "# repo = 'CMIP6Plus_CVs'\n",
    "# owner = 'wcrp-cmip'\n",
    "# url = f\"https://api.github.com/repos/{owner}/{repo}/contents/\"\n",
    "\n",
    "        \n",
    "# owner,repo = url.replace('https://api.github.com/repos/','').split('/',2)[:2]\n",
    "# preurl = f\"https://{owner}.github.io/{repo}/\"\n",
    "\n",
    "\n",
    "# owner, repo, preurl\n"
   ]
  },
  {
   "cell_type": "code",
   "execution_count": 19,
   "metadata": {},
   "outputs": [],
   "source": [
    "root2 = tree.filter_nested_dict({**root},valid_extensions=[\".json\"],valid_names=[])\n",
    "for e in root2['children']:\n",
    "    e['name'] = e['prefix']\n",
    "\n",
    "json.dump(root2, open('universe_hierarchy.json','w'), indent=2)"
   ]
  },
  {
   "cell_type": "code",
   "execution_count": 7,
   "metadata": {},
   "outputs": [],
   "source": [
    "# root2"
   ]
  },
  {
   "cell_type": "code",
   "execution_count": null,
   "metadata": {},
   "outputs": [
    {
     "name": "stdout",
     "output_type": "stream",
     "text": [
      "wcrp-universe\n",
      "mip-variables\n",
      "cmip6plus\n",
      "cmip7\n",
      "cf\n",
      "obs4mips\n"
     ]
    }
   ],
   "source": [
    "g = []\n",
    "from pyld import jsonld\n",
    "for k,v in cmipld.mapping.items():\n",
    "    print(k)\n",
    "    g.extend(jsonld.expand(v+'graph.jsonld'))\n",
    "    \n",
    "json.dump(g, open('universe_graph.json','w'), indent=2)\n"
   ]
  },
  {
   "cell_type": "code",
   "execution_count": 9,
   "metadata": {},
   "outputs": [],
   "source": [
    "# links = [i for i in  if i['subject']['type']== 'IRI' and i['object']['type']== 'IRI']"
   ]
  },
  {
   "cell_type": "code",
   "execution_count": null,
   "metadata": {},
   "outputs": [],
   "source": [
    "links = []\n",
    "rdf = jsonld.to_rdf(g)\n",
    "\n",
    "for i in rdf:\n",
    "    i = rdf[i]\n",
    "    if not i:\n",
    "        continue\n",
    "    for k in i:\n",
    "        if k['subject']['type']== 'IRI' and k['object']['type']== 'IRI':\n",
    "            # links.append(f\"{k['subject']['value']}>{k['object']['value']}\")\n",
    "            links.append([k['subject']['value'],k['object']['value']])\n",
    "            \n",
    "with open ('universe_links.json','w') as f:\n",
    "    f.write(f'const links = {json.dumps(links)};')"
   ]
  },
  {
   "cell_type": "code",
   "execution_count": null,
   "metadata": {},
   "outputs": [],
   "source": [
    "# # from collections import Counter\n",
    "# # Counter(links).most_common(10)\n",
    "\n",
    "# links"
   ]
  },
  {
   "cell_type": "code",
   "execution_count": 23,
   "metadata": {},
   "outputs": [],
   "source": [
    "structure = {}\n",
    "for repo in root2['children']:\n",
    "    structure[repo['prefix']] = {}\n",
    "    for file in repo['children']:\n",
    "        structure[repo['prefix']][file['name']] = file['jsonld']"
   ]
  },
  {
   "cell_type": "code",
   "execution_count": null,
   "metadata": {},
   "outputs": [],
   "source": []
  }
 ],
 "metadata": {
  "kernelspec": {
   "display_name": "base",
   "language": "python",
   "name": "python3"
  },
  "language_info": {
   "codemirror_mode": {
    "name": "ipython",
    "version": 3
   },
   "file_extension": ".py",
   "mimetype": "text/x-python",
   "name": "python",
   "nbconvert_exporter": "python",
   "pygments_lexer": "ipython3",
   "version": "3.10.10"
  }
 },
 "nbformat": 4,
 "nbformat_minor": 2
}
